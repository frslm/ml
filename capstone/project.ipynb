{
 "cells": [
  {
   "cell_type": "code",
   "execution_count": null,
   "metadata": {
    "collapsed": true
   },
   "outputs": [],
   "source": [
    "# Obtain plant image paths:\n",
    "import random\n",
    "random.seed(12)\n",
    "\n",
    "import os\n",
    "import numpy as np\n",
    "from glob import glob\n",
    "\n",
    "image_paths = []\n",
    "for i, dir in enumerate(os.listdir(\"data\")):\n",
    "    for sub_dir in glob(\"data\\\\\" + dir + \"\\\\*\"):\n",
    "        image_paths.append([sub_dir, i]) # (path and index)\n",
    "\n",
    "print('There are %d plant images.' % len(image_paths))"
   ]
  },
  {
   "cell_type": "code",
   "execution_count": null,
   "metadata": {
    "collapsed": true
   },
   "outputs": [],
   "source": [
    "# Split data into training (70%), validation (20%), and testing (10%) sets:\n",
    "from keras.utils import np_utils\n",
    "random.shuffle(image_paths)\n",
    "\n",
    "training_count = int(len(image_paths) * 0.7)\n",
    "validation_count = int(len(image_paths) * 0.2)\n",
    "\n",
    "training_paths = np.array([image_path[0] for image_path in image_paths[:training_count]])\n",
    "training_targets = np_utils.to_categorical(np.array([image_path[1] for image_path in image_paths[:training_count]]), 12)\n",
    "del image_paths[:training_count]\n",
    "\n",
    "validation_paths = np.array([image_path[0] for image_path in image_paths[:validation_count]])\n",
    "validation_targets = np_utils.to_categorical(np.array([image_path[1] for image_path in image_paths[:validation_count]]), 12)\n",
    "del image_paths[:validation_count]\n",
    "\n",
    "testing_paths = np.array([image_path[0] for image_path in image_paths])\n",
    "testing_targets = np_utils.to_categorical(np.array([image_path[1] for image_path in image_paths]), 12)\n",
    "\n",
    "print('There are %d training images, %d validation images, and %d testing images.' % (len(training_paths), len(validation_paths), len(testing_paths)))"
   ]
  },
  {
   "cell_type": "code",
   "execution_count": null,
   "metadata": {
    "collapsed": true
   },
   "outputs": [],
   "source": [
    "# Load images, resize them to 224 x 224 pixels, and divide each channel pixel by 255:\n",
    "from keras.preprocessing import image\n",
    "from tqdm import tqdm\n",
    "from PIL import ImageFile                            \n",
    "ImageFile.LOAD_TRUNCATED_IMAGES = True                 \n",
    "\n",
    "def path_to_tensor(image_path):\n",
    "    # Load RGB image as PIL.Image.Image type:\n",
    "    img = image.load_img(image_path, target_size=(224, 224))\n",
    "    # Convert PIL.Image.Image type to 3D tensor with shape (224, 224, 3):\n",
    "    x = image.img_to_array(img)\n",
    "    # Convert 3D tensor to 4D tensor with shape (1, 224, 224, 3) and return 4D tensor:\n",
    "    return np.expand_dims(x, axis=0)\n",
    "\n",
    "def paths_to_tensor(image_paths):\n",
    "    return np.vstack([path_to_tensor(image_path) for image_path in tqdm(image_paths)])\n",
    "\n",
    "training_tensors = paths_to_tensor(training_paths).astype('float32') / 255\n",
    "validation_tensors = paths_to_tensor(validation_paths).astype('float32') / 255\n",
    "testing_tensors = paths_to_tensor(testing_paths).astype('float32') / 255"
   ]
  },
  {
   "cell_type": "code",
   "execution_count": null,
   "metadata": {
    "collapsed": false,
    "deletable": true,
    "editable": true
   },
   "outputs": [],
   "source": [
    "# Set up the Convolutional Neural Network:\n",
    "from keras.layers import Conv2D, MaxPooling2D, GlobalAveragePooling2D\n",
    "from keras.layers import Dropout, Flatten, Dense\n",
    "from keras.models import Sequential\n",
    "from keras.layers.advanced_activations import LeakyReLU, PReLU\n",
    "\n",
    "model = Sequential()\n",
    "\n",
    "model.add(Conv2D(filters=16, kernel_size=2, padding='same', input_shape=(224, 224, 3)))\n",
    "model.add(PReLU())\n",
    "model.add(MaxPooling2D(pool_size=2))\n",
    "\n",
    "model.add(Conv2D(filters=32, kernel_size=2, padding='same'))\n",
    "model.add(PReLU())\n",
    "model.add(MaxPooling2D(pool_size=2))\n",
    "\n",
    "model.add(Conv2D(filters=64, kernel_size=2, padding='same'))\n",
    "model.add(PReLU())\n",
    "model.add(MaxPooling2D(pool_size=2))\n",
    "\n",
    "model.add(Conv2D(filters=128, kernel_size=2, padding='same'))\n",
    "model.add(PReLU())\n",
    "model.add(MaxPooling2D(pool_size=2))\n",
    "\n",
    "model.add(Conv2D(filters=256, kernel_size=2, padding='same'))\n",
    "model.add(PReLU())\n",
    "model.add(MaxPooling2D(pool_size=2))\n",
    "\n",
    "model.add(Conv2D(filters=512, kernel_size=2, padding='same'))\n",
    "model.add(PReLU())\n",
    "model.add(GlobalAveragePooling2D())\n",
    "\n",
    "model.add(Dense(12, activation='softmax'))\n",
    "\n",
    "model.compile(optimizer='rmsprop', loss='categorical_crossentropy', metrics=['accuracy'])\n",
    "\n",
    "model.summary()"
   ]
  },
  {
   "cell_type": "code",
   "execution_count": null,
   "metadata": {
    "collapsed": false,
    "deletable": true,
    "editable": true,
    "scrolled": true
   },
   "outputs": [],
   "source": [
    "# Train model:\n",
    "from keras.callbacks import ModelCheckpoint\n",
    "\n",
    "checkpointer = ModelCheckpoint(filepath='saved_models/weights.best.from_scratch.hdf5', verbose=1, save_best_only=True)\n",
    "\n",
    "model.fit(training_tensors, training_targets, \n",
    "          validation_data=(validation_tensors, validation_targets),\n",
    "          epochs=1, batch_size=20, callbacks=[checkpointer], verbose=1)\n",
    "\n",
    "print(\"Finished training model.\")"
   ]
  },
  {
   "cell_type": "code",
   "execution_count": null,
   "metadata": {
    "collapsed": false,
    "deletable": true,
    "editable": true
   },
   "outputs": [],
   "source": [
    "# Load weights:\n",
    "model.load_weights('saved_models/weights.best.from_scratch.hdf5')\n",
    "\n",
    "# Get index of predicted plant species for each image in testing set:\n",
    "plant_species_predictions = [np.argmax(model.predict(np.expand_dims(tensor, axis=0))) for tensor in testing_tensors]\n",
    "\n",
    "# Report micro-averaged F1-score:\n",
    "from sklearn.metrics import f1_score\n",
    "test_accuracy = f1_score(np.argmax(testing_targets, axis=1), plant_species_predictions, average='micro')\n",
    "print('Micro-averaged F1-score: %.4f' % test_accuracy)"
   ]
  },
  {
   "cell_type": "code",
   "execution_count": null,
   "metadata": {
    "collapsed": false,
    "deletable": true,
    "editable": true
   },
   "outputs": [],
   "source": [
    "from sklearn.metrics import confusion_matrix\n",
    "print(confusion_matrix(plant_species_predictions, np.argmax(testing_targets, axis=1)))"
   ]
  }
 ],
 "metadata": {
  "anaconda-cloud": {},
  "kernelspec": {
   "display_name": "dog-project",
   "language": "python",
   "name": "dog-project"
  },
  "language_info": {
   "codemirror_mode": {
    "name": "ipython",
    "version": 3
   },
   "file_extension": ".py",
   "mimetype": "text/x-python",
   "name": "python",
   "nbconvert_exporter": "python",
   "pygments_lexer": "ipython3",
   "version": "3.5.3"
  }
 },
 "nbformat": 4,
 "nbformat_minor": 2
}
